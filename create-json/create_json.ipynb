{
 "cells": [
  {
   "cell_type": "code",
   "execution_count": 59,
   "metadata": {},
   "outputs": [],
   "source": [
    "import boto3\n",
    "import json\n",
    "import mysql.connector\n",
    "from datetime import datetime as dt"
   ]
  },
  {
   "cell_type": "markdown",
   "metadata": {},
   "source": [
    "# Create JSON from IVR DynamoDB Table\n",
    "This code will take in data from the contactDetails DynamoDB table and format it into a JSON file so that it can be read and processed into a dashboard for analysis purposes"
   ]
  },
  {
   "cell_type": "code",
   "execution_count": 60,
   "metadata": {},
   "outputs": [],
   "source": [
    "profile = \"default\"\n",
    "boto3 = boto3.session.Session(profile_name=\"fcv\")"
   ]
  },
  {
   "cell_type": "markdown",
   "metadata": {},
   "source": [
    "## Define DynamoDB Table Parameters\n",
    "Setup for the contactDetails dynamodb table and scan to grab all the items"
   ]
  },
  {
   "cell_type": "code",
   "execution_count": 61,
   "metadata": {},
   "outputs": [],
   "source": [
    "dynamodb = boto3.resource(\"dynamodb\")\n",
    "table_name = \"contactDetails\"\n",
    "contact_details = dynamodb.Table(table_name)\n",
    "calls = contact_details.scan()"
   ]
  },
  {
   "cell_type": "markdown",
   "metadata": {},
   "source": [
    "## Sort by Date\n",
    "This function will return the date of the feedback as a datetime object in order to sort using python's sort() function"
   ]
  },
  {
   "cell_type": "code",
   "execution_count": 62,
   "metadata": {},
   "outputs": [],
   "source": [
    "def sort_by_date(feedback):\n",
    "    return dt.strptime(feedback[\"callDate\"], \"%m/%d/%Y\")"
   ]
  },
  {
   "cell_type": "markdown",
   "metadata": {},
   "source": [
    "## Get Calls\n",
    "This function will loop through the items in the contactDetails table and will count the calls that fall under a specific category. Any calls that cannot be categorized under a specific category are counted as unknown"
   ]
  },
  {
   "cell_type": "code",
   "execution_count": 63,
   "metadata": {},
   "outputs": [],
   "source": [
    "def get_calls(calls):\n",
    "    types_of_feedback = {\n",
    "        \"serviceFeedback\": 0,\n",
    "        \"doctorFeedback\": 0,\n",
    "        \"medFeedback\": 0,\n",
    "        \"otherFeedback\": 0, \n",
    "        \"unknownFeedback\": 0,\n",
    "    }\n",
    "    \n",
    "    for call in calls[\"Items\"]:\n",
    "        audio_to_customer = call[\"contactTranscriptToCustomer\"].lower()\n",
    "        if \"you have pressed one\" in audio_to_customer or \"you have press one\" in audio_to_customer:\n",
    "            types_of_feedback[\"serviceFeedback\"] += 1\n",
    "            call[\"feedbackType\"] = \"serviceFeedback\"\n",
    "        elif \"you have pressed two\" in audio_to_customer or \"you have press two\" in audio_to_customer:\n",
    "            types_of_feedback[\"doctorFeedback\"] += 1\n",
    "            call[\"feedbackType\"] = \"doctorFeedback\"\n",
    "        elif \"you have pressed three\" in audio_to_customer or \"you have press three\" in audio_to_customer:\n",
    "            types_of_feedback[\"medFeedback\"] += 1\n",
    "            call[\"feedbackType\"] = \"medFeedback\"\n",
    "        elif \"you have pressed four\" in audio_to_customer or \"you have press four\" in audio_to_customer:\n",
    "            types_of_feedback[\"otherFeedback\"] += 1\n",
    "            call[\"feedbackType\"] = \"otherFeedback\"\n",
    "        else:\n",
    "            types_of_feedback[\"unknownFeedback\"] += 1\n",
    "            call[\"feedbackType\"] = \"unknownFeedback\"\n",
    "        \n",
    "        # Encode the urls so that they can be publicly accessible\n",
    "        call[\"audioFromCustomer\"] = encode_s3_url(call[\"audioFromCustomer\"])\n",
    "        call[\"audioToCustomer\"] = encode_s3_url(call[\"audioToCustomer\"])\n",
    "    \n",
    "    return (calls, types_of_feedback)"
   ]
  },
  {
   "cell_type": "markdown",
   "metadata": {},
   "source": [
    "## Chatbot Messages RDS Query\n",
    "This function will take in the call data using mysql.connector to pull from an RDS Instance"
   ]
  },
  {
   "cell_type": "code",
   "execution_count": 64,
   "metadata": {},
   "outputs": [],
   "source": [
    "def get_messages(types_of_feedback):\n",
    "    try:\n",
    "        mydb = mysql.connector.connect(\n",
    "            host=\"chatbot-response.cxpevijcux2x.us-east-1.rds.amazonaws.com\",\n",
    "            user=\"admin\",\n",
    "            password=\"FxUIMZYmCRYJvnJtj7fL\",\n",
    "            database='chatbot'\n",
    "        )\n",
    "        \n",
    "        # Cursor object to query data from database\n",
    "        mycursor = mydb.cursor()\n",
    "\n",
    "        # Define a query\n",
    "        query = \"SELECT Phone, FeedbackType, Feedback, max(Created) FROM chatbot.Messages Where feedback is not NULL group by Phone, feedbacktype, Feedback\"\n",
    "\n",
    "        # Execute the query using the cursor\n",
    "        mycursor.execute(query)\n",
    "\n",
    "        # Collect the results of the query in a variable\n",
    "        myresult = mycursor.fetchall()\n",
    "\n",
    "        messagers = []\n",
    "        for feedback in myresult:\n",
    "            messager = {}\n",
    "            \n",
    "            # Get the phone number of the messager\n",
    "            messager[\"customerPhoneNumber\"] = feedback[0]\n",
    "            \n",
    "            # Categorize messages into their feedback categories\n",
    "            if feedback[1] == 1:\n",
    "                types_of_feedback[\"serviceFeedback\"] += 1\n",
    "                messager[\"feedbackType\"] = \"serviceFeedback\"\n",
    "            elif feedback[1] == 2:\n",
    "                types_of_feedback[\"doctorFeedback\"] += 1\n",
    "                messager[\"feedbackType\"] = \"doctorFeedback\"\n",
    "            elif feedback[1] == 3:\n",
    "                types_of_feedback[\"medFeedback\"] += 1\n",
    "                messager[\"feedbackType\"] = \"medFeedback\"\n",
    "            elif feedback[1] == 4:\n",
    "                types_of_feedback[\"otherFeedback\"] += 1\n",
    "                messager[\"feedbackType\"] = \"otherFeedback\"\n",
    "            else:\n",
    "                types_of_feedback[\"unknownFeedback\"] += 1\n",
    "                messager[\"feedbackType\"] = \"unknownFeedback\"\n",
    "            \n",
    "            # Get the transcript from customer\n",
    "            messager[\"contactTranscriptFromCustomer\"] = feedback[2]\n",
    "\n",
    "\n",
    "            # Get the timestamp\n",
    "            messager[\"messageTimestamp\"] = feedback[3].strftime(\"%c\")\n",
    "\n",
    "            # Get the message date\n",
    "            messager[\"callDate\"] = f\"{feedback[3].month}/{feedback[3].day}/{feedback[3].year}\"\n",
    "\n",
    "            # Add messager to messagers array\n",
    "            messagers.append(messager)\n",
    "\n",
    "        # Close the database connection\n",
    "        mydb.close()\n",
    "\n",
    "        # Sort messages by date in descending order\n",
    "        messagers.sort(key=sort_by_date, reverse=True)\n",
    "\n",
    "        return (messagers, types_of_feedback)\n",
    "    except mysql.connector.Error as err:\n",
    "        print(\"Something went wrong: {}\".format(err))\n",
    "\n"
   ]
  },
  {
   "cell_type": "markdown",
   "metadata": {},
   "source": [
    "## Get Dates\n",
    "This function will loop through the items in the contactDetails table and will grab the individual dates the callers contacted the IVR system"
   ]
  },
  {
   "cell_type": "code",
   "execution_count": 65,
   "metadata": {},
   "outputs": [],
   "source": [
    "def get_dates(feedback):\n",
    "    dates = []\n",
    "\n",
    "    for response in feedback:\n",
    "        if response['callDate'] not in dates:\n",
    "            dates.append(response['callDate'])\n",
    "\n",
    "    return dates\n"
   ]
  },
  {
   "cell_type": "markdown",
   "metadata": {},
   "source": [
    "## Get Feedback Per Day\n",
    "This function will loop through a given list of dates and will match the dates with the calls and messages. This will output a list of total feedback received during a specific date"
   ]
  },
  {
   "cell_type": "code",
   "execution_count": 66,
   "metadata": {},
   "outputs": [],
   "source": [
    "def get_feedback_per_day(feedback, dates):\n",
    "    feedback_per_day = []\n",
    "\n",
    "    for date in dates:\n",
    "        num = 0\n",
    "        for response in feedback:\n",
    "            if date == response['callDate']:\n",
    "                num += 1\n",
    "        feedback_per_day.append(num)\n",
    "\n",
    "    return feedback_per_day"
   ]
  },
  {
   "cell_type": "markdown",
   "metadata": {},
   "source": [
    "## Get Types of Feedback Per Day\n",
    "This function will loop through a given list of dates and will match the dates with the types of feedback in the calls and messages. This will output a dict with lists representing each type of feedback and the number of responses made during a specific date"
   ]
  },
  {
   "cell_type": "code",
   "execution_count": 67,
   "metadata": {},
   "outputs": [],
   "source": [
    "def get_types_of_feedback_per_day(feedback, dates):\n",
    "    types_of_feedback = {\n",
    "        \"serviceFeedback\": [],\n",
    "        \"doctorFeedback\": [],\n",
    "        \"medFeedback\": [],\n",
    "        \"otherFeedback\": [], \n",
    "        \"unknownFeedback\": [],\n",
    "    }\n",
    "\n",
    "    for date in dates:\n",
    "        num = {\n",
    "            \"serviceFeedback\": 0,\n",
    "            \"doctorFeedback\": 0,\n",
    "            \"medFeedback\": 0,\n",
    "            \"otherFeedback\": 0,\n",
    "            \"unknownFeedback\": 0\n",
    "        }\n",
    "        for response in feedback:\n",
    "            if response['feedbackType'] == \"serviceFeedback\" and response['callDate'] == date:\n",
    "                num[\"serviceFeedback\"] += 1\n",
    "            elif response['feedbackType'] == \"doctorFeedback\" and response['callDate'] == date:\n",
    "                num[\"doctorFeedback\"] += 1\n",
    "            elif response['feedbackType'] == \"medFeedback\" and response['callDate'] == date:\n",
    "                num[\"medFeedback\"] += 1\n",
    "            elif response['feedbackType'] == \"otherFeedback\" and response['callDate'] == date:\n",
    "                num[\"otherFeedback\"] += 1\n",
    "            elif response['feedbackType'] == \"unknownFeedback\" and response['callDate'] == date:\n",
    "                num[\"unknownFeedback\"] += 1\n",
    "        \n",
    "        for feedback_type in list(types_of_feedback.keys()):\n",
    "            types_of_feedback[feedback_type].append(num[feedback_type])\n",
    "\n",
    "    return types_of_feedback\n",
    "    \n"
   ]
  },
  {
   "cell_type": "markdown",
   "metadata": {},
   "source": [
    "## S3 URL Encode\n",
    "This function will take in an s3 url and encode it so that it is publicly accessible, credits to: [George Phillips](https://github.com/GeorgePhillips/node-s3-url-encode/blob/master/index.js)"
   ]
  },
  {
   "cell_type": "code",
   "execution_count": 68,
   "metadata": {},
   "outputs": [],
   "source": [
    "encodings = {\n",
    "  '+': \"%2B\",\n",
    "  '!': \"%21\",\n",
    "  '\\\"': \"%22\",\n",
    "  '#': \"%23\",\n",
    "  '$': \"%24\",\n",
    "  '&': \"%26\",\n",
    "  '\\'': \"%27\",\n",
    "  '(': \"%28\",\n",
    "  ')': \"%29\",\n",
    "  '*': \"%2A\",\n",
    "  ',': \"%2C\",\n",
    "  ':': \"%3A\",\n",
    "  ';': \"%3B\",\n",
    "  '=': \"%3D\",\n",
    "  '?': \"%3F\",\n",
    "  '@': \"%40\",\n",
    "}\n",
    "\n",
    "def encode_s3_url(url):\n",
    "    chars = \"+!\\\"#$&\\'()*,:;=?@\"\n",
    "    for char in chars:\n",
    "        url = url.replace(char, encodings[char])\n",
    "    url = url.replace(\"https%3A\", \"https:\")\n",
    "    return url"
   ]
  },
  {
   "cell_type": "markdown",
   "metadata": {},
   "source": [
    "## Output\n",
    "Create the dictionary containing all the necessary data and outputs it as a JSON file."
   ]
  },
  {
   "cell_type": "code",
   "execution_count": 69,
   "metadata": {},
   "outputs": [],
   "source": [
    "# Sort the calls by their date in descending order\n",
    "calls[\"Items\"].sort(key=sort_by_date, reverse=True)\n",
    "\n",
    "# Get calls and messages from the database\n",
    "calls, types_of_feedback = get_calls(calls)\n",
    "messages, types_of_feedback = get_messages(types_of_feedback)\n",
    "\n",
    "# Combine both calls and messages into one list\n",
    "feedback = sorted(calls['Items'] + messages, key=lambda d: dt.strptime(d['callDate'], \"%m/%d/%Y\"))\n",
    "\n",
    "# Statistics on both calls and messsages\n",
    "total_feedback = calls[\"Count\"] + len(messages)\n",
    "callers = calls['Items']\n",
    "dates = get_dates(feedback)\n",
    "feedback_per_day = get_feedback_per_day(feedback, dates) \n",
    "types_of_feedback_per_day = get_types_of_feedback_per_day(feedback, dates)\n",
    "service_feedback =  types_of_feedback_per_day['serviceFeedback'] \n",
    "doctor_feedback =  types_of_feedback_per_day['doctorFeedback'] \n",
    "med_feedback =  types_of_feedback_per_day['medFeedback'] \n",
    "other_feedback =  types_of_feedback_per_day['otherFeedback'] \n",
    "unknown_feedback =  types_of_feedback_per_day['unknownFeedback'] \n",
    "\n",
    "ivr = {\n",
    "    \"totalFeedback\": total_feedback,\n",
    "    \"typesOfFeedback\": types_of_feedback,\n",
    "    \"callers\": callers,\n",
    "    \"messagers\": messages,\n",
    "    \"dates\": dates,\n",
    "    \"feedbackPerDay\": feedback_per_day,\n",
    "    \"serviceFeedback\": service_feedback, \n",
    "    \"doctorFeedback\": doctor_feedback, \n",
    "    \"medFeedback\": med_feedback, \n",
    "    \"otherFeedback\": other_feedback, \n",
    "    \"unknownFeedback\": unknown_feedback, \n",
    "    \n",
    "}\n",
    "\n",
    "with open(\"ivr_data.json\", \"w\") as outfile:\n",
    "    json.dump(ivr, outfile, indent=2)"
   ]
  },
  {
   "cell_type": "markdown",
   "metadata": {},
   "source": [
    "#### Copy file back to s3 bucket\n",
    "Let's copy the newly generated file back to the S3 bucket to refresh the view"
   ]
  },
  {
   "cell_type": "code",
   "execution_count": 70,
   "metadata": {},
   "outputs": [],
   "source": [
    "# Uploads new json file to dashboard bucket\n",
    "s3 = boto3.resource('s3')\n",
    "BUCKET = \"worldbank-fcv-dashboard\"\n",
    "\n",
    "s3.Bucket(BUCKET).upload_file(\"ivr_data.json\", \"data.json\")"
   ]
  }
 ],
 "metadata": {
  "interpreter": {
   "hash": "86653ae35df63717dfe17b02a6e429f40982c606e2025370318e1c11af6432c6"
  },
  "kernelspec": {
   "display_name": "Python 3.9.1 64-bit",
   "name": "python3"
  },
  "language_info": {
   "codemirror_mode": {
    "name": "ipython",
    "version": 3
   },
   "file_extension": ".py",
   "mimetype": "text/x-python",
   "name": "python",
   "nbconvert_exporter": "python",
   "pygments_lexer": "ipython3",
   "version": "3.9.1"
  }
 },
 "nbformat": 4,
 "nbformat_minor": 2
}
